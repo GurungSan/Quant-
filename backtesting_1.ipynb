{
 "cells": [
  {
   "cell_type": "markdown",
   "id": "6c5e7f44",
   "metadata": {},
   "source": [
    "# UnconBacktest Example: TS Momentum in Cryptocurrencies\n",
    "\n",
    "We will run a simple \"uncon backtest\" to test whether 4 of the larger coins (BTC, ETH, ADA, BNB) show time-series momentum. In other words, if they have done well recently, do they tend to continue to do well?\n",
    "\n",
    "1. Run the first cell to compute returns for these coins since 2016.\n",
    "2. The signal on each day for each coin will be: sqrt(10)*(avg past 10 day ret - avg past 365 day ret) / (stdev past 365 day ret). You can think of this as the z-score of the past 10 day returns, and it tells us if a coin is doing better than it usually does. Technical note: we multiply by sqrt(10) here because the stdev is calculated on daily data but we want to \"z-score\" the average 10 day returns.\n",
    "3. The signal from (2) will have extreme values. Pass them through a tanh function to curtail these. These are your final daily portfolio weights.\n",
    "4. Compute the returns to the weights from (3). \n",
    "5. What is the Sharpe of these strategies? Plot their cumulative returns.\n",
    "6. How correlated are the timing strategies with the underlying assets?"
   ]
  },
  {
   "cell_type": "code",
   "execution_count": 20,
   "id": "46d2febc",
   "metadata": {},
   "outputs": [
    {
     "name": "stderr",
     "output_type": "stream",
     "text": [
      "[*********************100%***********************]  3 of 3 completed"
     ]
    },
    {
     "name": "stdout",
     "output_type": "stream",
     "text": [
      "MultiIndex([( 'Close', 'BNB-USD'),\n",
      "            ( 'Close', 'BTC-USD'),\n",
      "            ( 'Close', 'ETH-USD'),\n",
      "            (  'High', 'BNB-USD'),\n",
      "            (  'High', 'BTC-USD'),\n",
      "            (  'High', 'ETH-USD'),\n",
      "            (   'Low', 'BNB-USD'),\n",
      "            (   'Low', 'BTC-USD'),\n",
      "            (   'Low', 'ETH-USD'),\n",
      "            (  'Open', 'BNB-USD'),\n",
      "            (  'Open', 'BTC-USD'),\n",
      "            (  'Open', 'ETH-USD'),\n",
      "            ('Volume', 'BNB-USD'),\n",
      "            ('Volume', 'BTC-USD'),\n",
      "            ('Volume', 'ETH-USD')],\n",
      "           names=['Price', 'Ticker'])\n"
     ]
    },
    {
     "name": "stderr",
     "output_type": "stream",
     "text": [
      "\n"
     ]
    },
    {
     "ename": "NameError",
     "evalue": "name 'pd' is not defined",
     "output_type": "error",
     "traceback": [
      "\u001b[0;31m---------------------------------------------------------------------------\u001b[0m",
      "\u001b[0;31mNameError\u001b[0m                                 Traceback (most recent call last)",
      "Cell \u001b[0;32mIn[20], line 11\u001b[0m\n\u001b[1;32m      8\u001b[0m \u001b[38;5;28mprint\u001b[39m(data\u001b[38;5;241m.\u001b[39mcolumns)\n\u001b[1;32m     10\u001b[0m \u001b[38;5;66;03m# Handle MultiIndex (if data has multiple levels)\u001b[39;00m\n\u001b[0;32m---> 11\u001b[0m \u001b[38;5;28;01mif\u001b[39;00m \u001b[38;5;28misinstance\u001b[39m(data\u001b[38;5;241m.\u001b[39mcolumns, pd\u001b[38;5;241m.\u001b[39mMultiIndex):\n\u001b[1;32m     12\u001b[0m     adj_close \u001b[38;5;241m=\u001b[39m data\u001b[38;5;241m.\u001b[39mxs(\u001b[38;5;124m'\u001b[39m\u001b[38;5;124mAdj Close\u001b[39m\u001b[38;5;124m'\u001b[39m, level\u001b[38;5;241m=\u001b[39m\u001b[38;5;241m1\u001b[39m, axis\u001b[38;5;241m=\u001b[39m\u001b[38;5;241m1\u001b[39m)\n\u001b[1;32m     13\u001b[0m \u001b[38;5;28;01melse\u001b[39;00m:\n",
      "\u001b[0;31mNameError\u001b[0m: name 'pd' is not defined"
     ]
    }
   ],
   "source": [
    "import yfinance as yf\n",
    "\n",
    "# Download historical data\n",
    "tickers = ['BNB-USD', 'BTC-USD', 'ETH-USD']\n",
    "data = yf.download(tickers, start='2016-01-01')\n",
    "\n",
    "# Check available columns\n",
    "print(data.columns)\n",
    "\n",
    "# Handle MultiIndex (if data has multiple levels)\n",
    "if isinstance(data.columns, pd.MultiIndex):\n",
    "    adj_close = data.xs('Adj Close', level=1, axis=1)\n",
    "else:\n",
    "    adj_close = data['Adj Close'] if 'Adj Close' in data else data['Close']\n",
    "\n",
    "# Compute returns\n",
    "returns = adj_close.pct_change().dropna()\n",
    "\n",
    "# Display the first few rows\n",
    "print(returns.head())\n",
    "\n",
    "\n"
   ]
  },
  {
   "cell_type": "code",
   "execution_count": 24,
   "id": "49d2279d",
   "metadata": {},
   "outputs": [],
   "source": [
    "# compute portfolios and strategy returns\n",
    "port = np.sqrt(10)*(ret.rolling(10,min_periods=1).mean() - ret.rolling(365,min_periods=10).mean()) \n",
    "port = port / ret.rolling(365,min_periods=10).std()\n",
    "port = np.tanh(port)\n",
    "strat_ret = port.shift()*ret "
   ]
  },
  {
   "cell_type": "code",
   "execution_count": 26,
   "id": "eb6b7922",
   "metadata": {},
   "outputs": [
    {
     "data": {
      "text/plain": [
       "Ticker\n",
       "ADA-USD   NaN\n",
       "dtype: float64"
      ]
     },
     "execution_count": 26,
     "metadata": {},
     "output_type": "execute_result"
    }
   ],
   "source": [
    "# strategy sharpes\n",
    "strat_ret.mean()/strat_ret.std()*np.sqrt(365)"
   ]
  },
  {
   "cell_type": "code",
   "execution_count": 28,
   "id": "84c8055b",
   "metadata": {},
   "outputs": [
    {
     "data": {
      "text/plain": [
       "<Axes: xlabel='Date'>"
      ]
     },
     "execution_count": 28,
     "metadata": {},
     "output_type": "execute_result"
    },
    {
     "data": {
      "image/png": "[encoded data removed]",
      "text/plain": [
       "<Figure size 640x480 with 1 Axes>"
      ]
     },
     "metadata": {},
     "output_type": "display_data"
    }
   ],
   "source": [
    "# plot strategy cum returns\n",
    "strat_ret.cumsum().plot()"
   ]
  },
  {
   "cell_type": "code",
   "execution_count": 34,
   "id": "0de15b20",
   "metadata": {
    "scrolled": true
   },
   "outputs": [
    {
     "data": {
      "text/plain": [
       "Ticker\n",
       "ADA-USD   NaN\n",
       "dtype: float64"
      ]
     },
     "execution_count": 34,
     "metadata": {},
     "output_type": "execute_result"
    }
   ],
   "source": [
    "# correlations with underlying assets. Fairly lowly correlated, \n",
    "# suggesting we could enhance a buy and hold strategy with TS momentum\n",
    "strat_ret.corrwith(ret)"
   ]
  },
  {
   "cell_type": "code",
   "execution_count": null,
   "id": "af4ec915",
   "metadata": {},
   "outputs": [],
   "source": []
  }
 ],
 "metadata": {
  "kernelspec": {
   "display_name": "Python [conda env:base] *",
   "language": "python",
   "name": "conda-base-py"
  },
  "language_info": {
   "codemirror_mode": {
    "name": "ipython",
    "version": 3
   },
   "file_extension": ".py",
   "mimetype": "text/x-python",
   "name": "python",
   "nbconvert_exporter": "python",
   "pygments_lexer": "ipython3",
   "version": "3.12.7"
  }
 },
 "nbformat": 4,
 "nbformat_minor": 5
}
