{
 "cells": [
  {
   "cell_type": "markdown",
   "id": "e7d80077",
   "metadata": {},
   "source": [
    "1. Download daily price data for QQQ, TLT, GLD, RWO from yahoo finance since 2016-01-01. Using the adjusted close price data, compute daily returns. This should be a DataFrame with index=date, columns=ticker and values=daily returns."
   ]
  },
  {
   "cell_type": "markdown",
   "id": "45a1a61d",
   "metadata": {},
   "source": [
    "2. Compute the signal. Complete the compute_momentum function which computes a simple momentum signal. The function takes in a DataFrame with index = date, columns=ticker and values containing daily returns. It returns a new DataFrame with index = date, columns=ticker and values containing the momentum signal for the ticker on that day. The momentum signal for each ticker is defined as the annualized sharpe ratio of the past 252 days."
   ]
  },
  {
   "cell_type": "code",
   "execution_count": null,
   "id": "58990f2a",
   "metadata": {
    "scrolled": true
   },
   "outputs": [
    {
     "name": "stdout",
     "output_type": "stream",
     "text": [
      "Defaulting to user installation because normal site-packages is not writeable\n",
      "Collecting yfinance\n",
      "  Downloading yfinance-0.2.52-py2.py3-none-any.whl.metadata (5.8 kB)\n",
      "Requirement already satisfied: pandas>=1.3.0 in /opt/anaconda3/lib/python3.12/site-packages (from yfinance) (2.2.2)\n",
      "Requirement already satisfied: numpy>=1.16.5 in /opt/anaconda3/lib/python3.12/site-packages (from yfinance) (1.26.4)\n",
      "Requirement already satisfied: requests>=2.31 in /opt/anaconda3/lib/python3.12/site-packages (from yfinance) (2.32.3)\n",
      "Collecting multitasking>=0.0.7 (from yfinance)\n",
      "  Downloading multitasking-0.0.11-py3-none-any.whl.metadata (5.5 kB)\n",
      "Requirement already satisfied: lxml>=4.9.1 in /opt/anaconda3/lib/python3.12/site-packages (from yfinance) (5.2.1)\n",
      "Requirement already satisfied: platformdirs>=2.0.0 in /opt/anaconda3/lib/python3.12/site-packages (from yfinance) (3.10.0)\n",
      "Requirement already satisfied: pytz>=2022.5 in /opt/anaconda3/lib/python3.12/site-packages (from yfinance) (2024.1)\n",
      "Requirement already satisfied: frozendict>=2.3.4 in /opt/anaconda3/lib/python3.12/site-packages (from yfinance) (2.4.2)\n",
      "Collecting peewee>=3.16.2 (from yfinance)\n",
      "  Downloading peewee-3.17.8.tar.gz (948 kB)\n",
      "\u001b[2K     \u001b[90m━━━━━━━━━━━━━━━━━━━━━━━━━━━━━━━━━━━━━━━\u001b[0m \u001b[32m948.2/948.2 kB\u001b[0m \u001b[31m3.2 MB/s\u001b[0m eta \u001b[36m0:00:00\u001b[0mm-:--:--\u001b[0m\n",
      "\u001b[?25h  Installing build dependencies ... \u001b[?25ldone\n",
      "\u001b[?25h  Getting requirements to build wheel ... \u001b[?25ldone\n",
      "\u001b[?25h  Preparing metadata (pyproject.toml) ... \u001b[?25ldone\n",
      "\u001b[?25hRequirement already satisfied: beautifulsoup4>=4.11.1 in /opt/anaconda3/lib/python3.12/site-packages (from yfinance) (4.12.3)\n",
      "Collecting html5lib>=1.1 (from yfinance)\n",
      "  Downloading html5lib-1.1-py2.py3-none-any.whl.metadata (16 kB)\n",
      "Requirement already satisfied: soupsieve>1.2 in /opt/anaconda3/lib/python3.12/site-packages (from beautifulsoup4>=4.11.1->yfinance) (2.5)\n",
      "Requirement already satisfied: six>=1.9 in /opt/anaconda3/lib/python3.12/site-packages (from html5lib>=1.1->yfinance) (1.16.0)\n",
      "Requirement already satisfied: webencodings in /opt/anaconda3/lib/python3.12/site-packages (from html5lib>=1.1->yfinance) (0.5.1)\n",
      "Requirement already satisfied: python-dateutil>=2.8.2 in /opt/anaconda3/lib/python3.12/site-packages (from pandas>=1.3.0->yfinance) (2.9.0.post0)\n",
      "Requirement already satisfied: tzdata>=2022.7 in /opt/anaconda3/lib/python3.12/site-packages (from pandas>=1.3.0->yfinance) (2023.3)\n",
      "Requirement already satisfied: charset-normalizer<4,>=2 in /opt/anaconda3/lib/python3.12/site-packages (from requests>=2.31->yfinance) (3.3.2)\n",
      "Requirement already satisfied: idna<4,>=2.5 in /opt/anaconda3/lib/python3.12/site-packages (from requests>=2.31->yfinance) (3.7)\n",
      "Requirement already satisfied: urllib3<3,>=1.21.1 in /opt/anaconda3/lib/python3.12/site-packages (from requests>=2.31->yfinance) (2.2.3)\n",
      "Requirement already satisfied: certifi>=2017.4.17 in /opt/anaconda3/lib/python3.12/site-packages (from requests>=2.31->yfinance) (2024.12.14)\n",
      "Downloading yfinance-0.2.52-py2.py3-none-any.whl (108 kB)\n",
      "Downloading html5lib-1.1-py2.py3-none-any.whl (112 kB)\n",
      "Downloading multitasking-0.0.11-py3-none-any.whl (8.5 kB)\n",
      "Building wheels for collected packages: peewee\n",
      "  Building wheel for peewee (pyproject.toml) ... \u001b[?25l\\"
     ]
    }
   ],
   "source": [
    "pip install yfinance"
   ]
  },
  {
   "cell_type": "code",
   "execution_count": null,
   "id": "a50b9241-903b-472a-9b41-8c2efff22a78",
   "metadata": {},
   "outputs": [],
   "source": [
    "import yfinance as yf"
   ]
  },
  {
   "cell_type": "code",
   "execution_count": null,
   "id": "c46cdd1f",
   "metadata": {},
   "outputs": [],
   "source": [
    "import math\n",
    "\n",
    "def compute_momentum(ret):\n",
    "    momentum = ret.rolling(252).mean()/ret.rolling(252).std()*math.sqrt(252)\n",
    "    return momentum\n",
    "\n",
    "momentum = compute_momentum(ret)\n",
    "momentum"
   ]
  },
  {
   "cell_type": "markdown",
   "id": "f383a3f2",
   "metadata": {},
   "source": [
    "3. Create a portfolio. Complete the function compute_portfolio. This function takes as input the DataFrame \"momentum\" from above. It returns a new DataFrame \"portfolio\" which has the same index/columns and has as values portfolio weights. The weights are computed as follows. On each date, equal-weight long the tickers with a momentum signal above 1."
   ]
  },
  {
   "cell_type": "code",
   "execution_count": null,
   "id": "2e751b7e",
   "metadata": {},
   "outputs": [],
   "source": [
    "def compute_portfolio(momentum):\n",
    "    portfolio = (momentum > 1)*1\n",
    "    portfolio = portfolio.div(portfolio.abs().sum(1),0)\n",
    "    return portfolio\n",
    "\n",
    "portfolio = compute_portfolio(momentum)"
   ]
  },
  {
   "cell_type": "markdown",
   "id": "7132045e",
   "metadata": {},
   "source": [
    "4. Portfolio returns. Using the \"portfolio\" returned in part(3) and the returns generated in part(1), compute the returns to the simple momentum strategy. \n",
    "- What is the annualized sharpe ratio of the strategy? \n",
    "- How about the annualized sharpe ratio within each year? \n",
    "- How correlated is the strategy with the underlying tickers?\n",
    "- Plot the cumulative sum of the returns through time"
   ]
  },
  {
   "cell_type": "code",
   "execution_count": null,
   "id": "eb1d5fa8",
   "metadata": {},
   "outputs": [],
   "source": [
    "strat_ret = (portfolio.shift()*ret).sum(1)\n",
    "# minor, but should start returns when signal starts\n",
    "strat_ret = strat_ret.loc[momentum.dropna().index[0]:] "
   ]
  },
  {
   "cell_type": "code",
   "execution_count": null,
   "id": "c4696999",
   "metadata": {},
   "outputs": [],
   "source": [
    "# sharpe\n",
    "strat_ret.mean()/strat_ret.std()*math.sqrt(252)"
   ]
  },
  {
   "cell_type": "code",
   "execution_count": null,
   "id": "990fae26",
   "metadata": {},
   "outputs": [],
   "source": [
    "# sharpe within each year\n",
    "import numpy as np \n",
    "\n",
    "sharpe = lambda x: x.mean()/x.std()*math.sqrt(252) \n",
    "strat_ret.groupby([x.year for x in strat_ret.index]).apply(sharpe)"
   ]
  },
  {
   "cell_type": "code",
   "execution_count": null,
   "id": "688f2015",
   "metadata": {},
   "outputs": [],
   "source": [
    "# correlation\n",
    "ret.corrwith(strat_ret)"
   ]
  },
  {
   "cell_type": "code",
   "execution_count": null,
   "id": "041e303d",
   "metadata": {},
   "outputs": [],
   "source": [
    "# cumulative returns\n",
    "strat_ret.cumsum().plot()"
   ]
  },
  {
   "cell_type": "code",
   "execution_count": null,
   "id": "520414a4",
   "metadata": {},
   "outputs": [],
   "source": []
  }
 ],
 "metadata": {
  "kernelspec": {
   "display_name": "Python [conda env:base] *",
   "language": "python",
   "name": "conda-base-py"
  },
  "language_info": {
   "codemirror_mode": {
    "name": "ipython",
    "version": 3
   },
   "file_extension": ".py",
   "mimetype": "text/x-python",
   "name": "python",
   "nbconvert_exporter": "python",
   "pygments_lexer": "ipython3",
   "version": "3.12.7"
  }
 },
 "nbformat": 4,
 "nbformat_minor": 5
}
